{
 "cells": [
  {
   "cell_type": "code",
   "execution_count": 1,
   "id": "374c21ce-0605-4476-b665-91d0d973c0d1",
   "metadata": {},
   "outputs": [
    {
     "name": "stdout",
     "output_type": "stream",
     "text": [
      "<module 'metadata.project' from '/Volumes/T7/Projects/GitHub Repos/TemplateRepo/metadata/variables/project.py'>\n"
     ]
    }
   ],
   "source": [
    "import importlib.util\n",
    "import sys\n",
    "\n",
    "name = \"metadata\"\n",
    "spec = importlib.util.spec_from_file_location(name, \"metadata/variables/__init__.py\")\n",
    "module = importlib.util.module_from_spec(spec)\n",
    "sys.modules[name] = module\n",
    "spec.loader.exec_module(module)\n",
    "metadata = module\n",
    "print(metadata.project)"
   ]
  },
  {
   "cell_type": "code",
   "execution_count": 2,
   "id": "efa397e4-9059-47cc-bd03-194b033ed3d2",
   "metadata": {},
   "outputs": [
    {
     "data": {
      "text/plain": [
       "<module 'metadata' from '/Volumes/T7/Projects/GitHub Repos/TemplateRepo/metadata/variables/__init__.py'>"
      ]
     },
     "execution_count": 2,
     "metadata": {},
     "output_type": "execute_result"
    }
   ],
   "source": [
    "metadata"
   ]
  },
  {
   "cell_type": "code",
   "execution_count": 3,
   "id": "dc8526a2-04c2-4999-9bfe-10850fe93107",
   "metadata": {},
   "outputs": [
    {
     "data": {
      "text/plain": [
       "['__name__',\n",
       " '__doc__',\n",
       " '__package__',\n",
       " '__loader__',\n",
       " '__spec__',\n",
       " '__path__',\n",
       " '__file__',\n",
       " '__cached__',\n",
       " '__builtins__',\n",
       " 'paths',\n",
       " 'project',\n",
       " 'urls',\n",
       " 'pypi']"
      ]
     },
     "execution_count": 3,
     "metadata": {},
     "output_type": "execute_result"
    }
   ],
   "source": [
    "metadata.__dir__()"
   ]
  },
  {
   "cell_type": "code",
   "execution_count": 4,
   "id": "acc84e8c-2207-498b-998f-8b32ab2d4b8b",
   "metadata": {},
   "outputs": [
    {
     "data": {
      "text/plain": [
       "'{\"paths\": {\"DIR_TEMPLATES\": \"metadata/templates\", \"DIR_TEMPLATES__HEALTH_FILES\": \"metadata/templates/health_files\", \"DIR_SPHINX_WEBSITE\": \"docs/website_sphinx/source\", \"TEMPLATE_CONTRIBUTING\": \"metadata/templates/health_files/CONTRIBUTING.md\", \"TEMPLATE_SECURITY\": \"metadata/templates/health_files/SECURITY.md\", \"CONTRIBUTING\": \"docs/CONTRIBUTING.md\", \"CODE_OF_CONDUCT\": \"docs/CODE_OF_CONDUCT.md\", \"SECURITY\": \"docs/SECURITY.md\", \"SUPPORT\": \"docs/SUPPORT.md\"}, \"project\": {\"NAME\": \"PyPACKIT\", \"PACKAGE_NAME\": \"pypackit\", \"SHORT_DESCRIPTION\": \"Effortlessly Create, Document, Test, Deploy, and Maintain Python Projects\", \"LONG_DESCRIPTION\": \"PyPackIT is an open-source software for creating other open-source software, specifically Python packages. It streamlines all the tedious and time-consuming \\\\\"administrative\\\\\" jobs of the software development process, so you can only focus on what truly matters -- implementing your ideas.\\\\nWith a single command, PyPackIT creates a professional and robust infrastructure.\", \"KEYWORDS\": [\"python\", \"package\", \"packaging\", \"repository\", \"documentation\", \"automated\"], \"START_YEAR\": 2023, \"LICENSE\": \"GNU Affero General Public License v3 or later (AGPLv3+)\", \"GITHUB_USER\": \"ArminAriam\", \"GITHUB_REPO\": \"PyPACKIT\", \"GITHUB_BRANCH\": \"main\"}, \"urls\": {\"HOMEPAGE\": \"https://.rtfd.io\", \"LICENSE\": \"https://.rtfd.io/license\", \"CONTRIBUTORS\": \"https://.rtfd.io/about#contributors\", \"GITHUB_REPO\": \"https://github.com/ArminAriam/PyPACKIT\", \"ISSUE_TRACKER\": \"https://github.com/ArminAriam/PyPACKIT/issues\", \"UPDTATE_TRACKER\": \"https://github.com/ArminAriam/PyPACKIT/pulls\", \"DISCUSSIONS\": \"https://github.com/ArminAriam/PyPACKIT/discussions\", \"RELEASES\": \"https://github.com/ArminAriam/PyPACKIT/releases\", \"CONTRIBUTING\": \"docs/CONTRIBUTING.md\", \"CODE_OF_CONDUCT\": \"docs/CODE_OF_CONDUCT.md\", \"SECURITY\": \"docs/SECURITY.md\", \"SUPPORT\": \"docs/SUPPORT.md\", \"PYPI\": \"https://pypi.org/project/pypackit/\"}, \"pypi\": {}}'"
      ]
     },
     "execution_count": 4,
     "metadata": {},
     "output_type": "execute_result"
    }
   ],
   "source": [
    "dic = dict()\n",
    "for name in metadata.__dir__():\n",
    "    if not name.startswith(\"_\"):\n",
    "        dic[name] = dict()\n",
    "        module = getattr(metadata, name)\n",
    "        for var_name in module.__dir__():\n",
    "            if not var_name.startswith(\"_\") and var_name.isupper():\n",
    "                dic[name][var_name] = getattr(module, var_name)\n",
    "import json\n",
    "\n",
    "json.dumps(dic)"
   ]
  },
  {
   "cell_type": "code",
   "execution_count": null,
   "id": "73f37201-7134-4b6e-88ec-38a15393f495",
   "metadata": {},
   "outputs": [],
   "source": [
    "\"AB_FA\".isupper()"
   ]
  },
  {
   "cell_type": "code",
   "execution_count": null,
   "id": "3a2630f8-0846-4f13-b994-758863702b54",
   "metadata": {},
   "outputs": [],
   "source": [
    "getattr(metadata, \"project\")"
   ]
  },
  {
   "cell_type": "code",
   "execution_count": null,
   "id": "a65426fa-1610-493c-995a-af264c441b95",
   "metadata": {},
   "outputs": [],
   "source": [
    "import json"
   ]
  },
  {
   "cell_type": "code",
   "execution_count": null,
   "id": "f5bad2cb-2b7b-4e37-87ac-9e0c7ec7c462",
   "metadata": {},
   "outputs": [],
   "source": [
    "__file__"
   ]
  },
  {
   "cell_type": "code",
   "execution_count": 5,
   "id": "58dd7a78-53e2-49fa-a665-9d87ef086ebf",
   "metadata": {},
   "outputs": [],
   "source": [
    "from pathlib import Path"
   ]
  },
  {
   "cell_type": "code",
   "execution_count": 8,
   "id": "f044508c-435b-4b9c-8ab9-72bbba0158bb",
   "metadata": {},
   "outputs": [
    {
     "data": {
      "text/plain": [
       "PosixPath('/Volumes/T7/Projects/GitHub Repos/TemplateRepo')"
      ]
     },
     "execution_count": 8,
     "metadata": {},
     "output_type": "execute_result"
    }
   ],
   "source": [
    "Path.cwd()"
   ]
  },
  {
   "cell_type": "code",
   "execution_count": 10,
   "id": "af5e06f0-e034-482b-a4f4-876f82a7b2ca",
   "metadata": {},
   "outputs": [
    {
     "data": {
      "text/plain": [
       "<function setattr(obj, name, value, /)>"
      ]
     },
     "execution_count": 10,
     "metadata": {},
     "output_type": "execute_result"
    }
   ],
   "source": [
    "setattr()"
   ]
  },
  {
   "cell_type": "code",
   "execution_count": null,
   "id": "decbd589-956b-43b1-896c-b48f7ba3f7ab",
   "metadata": {},
   "outputs": [],
   "source": []
  }
 ],
 "metadata": {
  "kernelspec": {
   "display_name": "Python 3 (ipykernel)",
   "language": "python",
   "name": "python3"
  },
  "language_info": {
   "codemirror_mode": {
    "name": "ipython",
    "version": 3
   },
   "file_extension": ".py",
   "mimetype": "text/x-python",
   "name": "python",
   "nbconvert_exporter": "python",
   "pygments_lexer": "ipython3",
   "version": "3.11.3"
  }
 },
 "nbformat": 4,
 "nbformat_minor": 5
}
